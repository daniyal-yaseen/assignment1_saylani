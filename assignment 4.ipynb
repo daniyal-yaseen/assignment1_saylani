{
 "cells": [
  {
   "cell_type": "code",
   "execution_count": 1,
   "metadata": {},
   "outputs": [
    {
     "name": "stdout",
     "output_type": "stream",
     "text": [
      "{'first_name': 'Usama', 'last_name': 'Yaseen', 'age': '20', 'city': 'Karachi'}\n",
      "{'first_name': 'Usama', 'last_name': 'Yaseen', 'age': '20', 'city': 'Karachi', 'qualification': 'High Academaic Level'}\n",
      "{'first_name': 'Usama', 'last_name': 'Yaseen', 'age': '20', 'city': 'Karachi'}\n"
     ]
    }
   ],
   "source": [
    "#Q1\n",
    "person = {\n",
    "    'first_name':'Usama',\n",
    "    'last_name':'Yaseen',\n",
    "    'age':'20',\n",
    "    'city':'Karachi'\n",
    "    }\n",
    "print(person)\n",
    "\n",
    "person['qualification']='High Academaic Level'\n",
    "\n",
    "print(person)\n",
    "\n",
    "del person['qualification']\n",
    "\n",
    "print(person)\n",
    "\n"
   ]
  },
  {
   "cell_type": "code",
   "execution_count": 2,
   "metadata": {},
   "outputs": [
    {
     "name": "stdout",
     "output_type": "stream",
     "text": [
      "Karachi\n",
      "{'country': 'Pakistan', 'population': '14.91 million', 'fact': 'City Of light'}\n",
      "Damasuc\n",
      "{'country': 'Syria', 'population': '1.711 million', 'fact': 'Oldest city in the world'}\n",
      "Rome\n",
      "{'country': 'Italy', 'population': '2.873 million', 'fact': 'Historic City in the World'}\n"
     ]
    }
   ],
   "source": [
    "#Q2\n",
    "cities = {\n",
    "    'Karachi':{\n",
    "        'country':'Pakistan',\n",
    "        'population':'14.91 million',\n",
    "        'fact':'City Of light'  \n",
    "    },\n",
    "    'Damasuc':{\n",
    "        'country':'Syria',\n",
    "        'population':'1.711 million',\n",
    "        'fact':'Oldest city in the world'  \n",
    "    },\n",
    "    'Rome':{\n",
    "        'country':'Italy',\n",
    "        'population':'2.873 million',\n",
    "        'fact':'Historic City in the World'  \n",
    "    }\n",
    "}\n",
    "for key, value in cities.items() :\n",
    "    print (key)\n",
    "    print(value)\n"
   ]
  },
  {
   "cell_type": "code",
   "execution_count": 27,
   "metadata": {},
   "outputs": [
    {
     "name": "stdout",
     "output_type": "stream",
     "text": [
      "What's your age \n",
      "2\n",
      "Your ticket is free\n",
      "What's your age \n",
      "4\n",
      "Your ticket is 10$\n",
      "What's your age \n",
      "15\n",
      "Your ticket is 15$\n"
     ]
    }
   ],
   "source": [
    "#Q3\n",
    "for i in range(3):\n",
    "    age = int(input('What\\'s your age \\n'))\n",
    "    if age<3:\n",
    "        print('Your ticket is free')\n",
    "    elif age>3 and age<12:\n",
    "        print('Your ticket is 10$')\n",
    "    elif age > 12:\n",
    "        print('Your ticket is 15$')\n",
    "        "
   ]
  },
  {
   "cell_type": "code",
   "execution_count": 21,
   "metadata": {},
   "outputs": [
    {
     "name": "stdout",
     "output_type": "stream",
     "text": [
      "One of my favourite book is Rich Dad Poor Dad.\n"
     ]
    }
   ],
   "source": [
    "#Q4\n",
    "def favourite_book(title):\n",
    "    print('One of my favourite book is', title + '.')\n",
    "\n",
    "favourite_book('Rich Dad Poor Dad')\n",
    "    \n",
    "    "
   ]
  },
  {
   "cell_type": "code",
   "execution_count": 30,
   "metadata": {},
   "outputs": [
    {
     "name": "stdout",
     "output_type": "stream",
     "text": [
      "Guess a number from 1 to 30: 15\n",
      "To guess correct, enter number greater then  15\n",
      "Guess a number from 1 to 30: 22\n",
      "To guess correct, enter number greater then  22\n",
      "Guess a number from 1 to 30: 26\n",
      "To guess correct, enter number greater then  26\n",
      "\n",
      "your guess is wrong\n",
      "**************better luck next time ************* \n"
     ]
    }
   ],
   "source": [
    "#Q5\n",
    "import random\n",
    "num=random.randint(1,30)\n",
    "result=0\n",
    "for i in range(0,3):\n",
    "    n = int(input(\"Guess a number from 1 to 30: \"))\n",
    "    if n == num:\n",
    "        print(\"Your guess is right\")\n",
    "        result=1\n",
    "        break\n",
    "    elif n>num:\n",
    "        print('To guess correct, enter number less then ',n)\n",
    "    elif n<num:\n",
    "        print('To guess correct, enter number greater then ',n)\n",
    "\n",
    "if result==1:\n",
    "    print(\"\\nCongratulation\")\n",
    "else:\n",
    "    print(\"\\nyour guess is wrong\")\n",
    "    print(\"**************better luck next time ************* \")\n"
   ]
  },
  {
   "cell_type": "code",
   "execution_count": null,
   "metadata": {},
   "outputs": [],
   "source": []
  }
 ],
 "metadata": {
  "kernelspec": {
   "display_name": "Python 3",
   "language": "python",
   "name": "python3"
  },
  "language_info": {
   "codemirror_mode": {
    "name": "ipython",
    "version": 3
   },
   "file_extension": ".py",
   "mimetype": "text/x-python",
   "name": "python",
   "nbconvert_exporter": "python",
   "pygments_lexer": "ipython3",
   "version": "3.7.1"
  }
 },
 "nbformat": 4,
 "nbformat_minor": 2
}
