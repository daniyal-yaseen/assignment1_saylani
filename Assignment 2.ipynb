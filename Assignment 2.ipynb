{
 "cells": [
  {
   "cell_type": "code",
   "execution_count": 5,
   "metadata": {},
   "outputs": [
    {
     "name": "stdout",
     "output_type": "stream",
     "text": [
      "Enter Marks for subject 1:70\n",
      "Enter Marks for subject 2:80\n",
      "Enter Marks for subject 3:90\n",
      "Enter Marks for subject 4:50\n",
      "Enter Marks for subject 5:60\n",
      "A-\n"
     ]
    }
   ],
   "source": [
    "# Q1\n",
    "m1 = float(input(\"Enter Marks for subject 1:\"))\n",
    "m2 = float(input(\"Enter Marks for subject 2:\"))\n",
    "m3 = float(input(\"Enter Marks for subject 3:\"))\n",
    "m4 = float(input(\"Enter Marks for subject 4:\"))\n",
    "m5 = float(input(\"Enter Marks for subject 5:\"))\n",
    "tm = m1 + m2 + m3 + m4 + m5\n",
    "p = (tm/500)*100\n",
    "\n",
    "if p >= 80 and p <= 100:\n",
    "    print(\"A+\")\n",
    "elif p >= 70 and p < 80:\n",
    "    print(\"A-\")\n",
    "elif p >= 60 and p < 70:\n",
    "    print(\"B\")\n",
    "elif p >= 50 and p < 60:\n",
    "    print(\"C\")\n",
    "elif p >= 40 and p < 50:\n",
    "    print(\"D\")\n",
    "elif p >= 33 and p < 40:\n",
    "    print(\"E\")\n",
    "elif p >= 0 and p < 33:\n",
    "    print(\"F\")\n",
    "else:\n",
    "    print(\"You have entered inappropriate Marks\")"
   ]
  },
  {
   "cell_type": "code",
   "execution_count": 8,
   "metadata": {},
   "outputs": [
    {
     "name": "stdout",
     "output_type": "stream",
     "text": [
      "Enter Number:4\n",
      "The Number is Even.\n"
     ]
    }
   ],
   "source": [
    "# Q2\n",
    "n = int(input(\"Enter Number:\"))\n",
    "if n % 2 == 0:\n",
    "    print(\"The Number is Even.\")\n",
    "else:\n",
    "    print(\"The Number is Odd.\")"
   ]
  },
  {
   "cell_type": "code",
   "execution_count": 9,
   "metadata": {},
   "outputs": [
    {
     "name": "stdout",
     "output_type": "stream",
     "text": [
      "5\n"
     ]
    }
   ],
   "source": [
    "# Q3\n",
    "list = [0,1,2,3,4]\n",
    "print(len(list))"
   ]
  },
  {
   "cell_type": "code",
   "execution_count": 13,
   "metadata": {},
   "outputs": [
    {
     "name": "stdout",
     "output_type": "stream",
     "text": [
      "10\n"
     ]
    }
   ],
   "source": [
    "# Q4\n",
    "list = [0,1,2,3,4]\n",
    "sum = 0\n",
    "for n in list:\n",
    "    sum = sum + n\n",
    "print(sum)"
   ]
  },
  {
   "cell_type": "code",
   "execution_count": 14,
   "metadata": {},
   "outputs": [
    {
     "name": "stdout",
     "output_type": "stream",
     "text": [
      "Largest Number is : 4\n"
     ]
    }
   ],
   "source": [
    "# Q5\n",
    "list = [0,1,2,3,4]\n",
    "print(\"Largest Number is :\", max(list))"
   ]
  },
  {
   "cell_type": "code",
   "execution_count": 15,
   "metadata": {},
   "outputs": [
    {
     "name": "stdout",
     "output_type": "stream",
     "text": [
      "1\n",
      "1\n",
      "2\n",
      "3\n",
      "5\n"
     ]
    }
   ],
   "source": [
    "# Q6\n",
    "list = [1, 1, 2, 3, 5, 8, 13, 21, 34, 55, 89]\n",
    "for n in list:\n",
    "    if n <= 5:\n",
    "        print(n)"
   ]
  },
  {
   "cell_type": "code",
   "execution_count": null,
   "metadata": {},
   "outputs": [],
   "source": []
  }
 ],
 "metadata": {
  "kernelspec": {
   "display_name": "Python 3",
   "language": "python",
   "name": "python3"
  },
  "language_info": {
   "codemirror_mode": {
    "name": "ipython",
    "version": 3
   },
   "file_extension": ".py",
   "mimetype": "text/x-python",
   "name": "python",
   "nbconvert_exporter": "python",
   "pygments_lexer": "ipython3",
   "version": "3.7.4"
  }
 },
 "nbformat": 4,
 "nbformat_minor": 2
}
