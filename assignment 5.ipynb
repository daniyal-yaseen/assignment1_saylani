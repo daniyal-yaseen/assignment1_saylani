{
 "cells": [
  {
   "cell_type": "code",
   "execution_count": 1,
   "metadata": {},
   "outputs": [
    {
     "name": "stdout",
     "output_type": "stream",
     "text": [
      "Enter a Non Negative Number 5\n",
      "('The factorial of', 5, 'is', 120)\n"
     ]
    }
   ],
   "source": [
    "#Q1\n",
    "num = int(input(\"Enter a Non Negative Number \"))\n",
    "\n",
    "def factorial(num):\n",
    "    f = 1\n",
    "    if num < 0:\n",
    "       return (\"Enter Positive number\")\n",
    "    elif num == 0:\n",
    "       return (\"The factorial of 0 is 1\")\n",
    "    else:\n",
    "       for i in range(1,num + 1):\n",
    "           f = f*i\n",
    "       return (\"The factorial of\",num,\"is\",f)\n",
    "    \n",
    "\n",
    "fact = factorial(num)\n",
    "print(fact)\n",
    "\n"
   ]
  },
  {
   "cell_type": "code",
   "execution_count": 4,
   "metadata": {},
   "outputs": [
    {
     "name": "stdout",
     "output_type": "stream",
     "text": [
      "upper case in string are  5\n",
      "lower case in string are  12\n"
     ]
    }
   ],
   "source": [
    "#Q2\n",
    "str = 'Hello HOW are You'\n",
    "def CountLowerUpper(str):\n",
    "    upper=0\n",
    "    lower=0\n",
    "    for s in str:\n",
    "        if s.isupper():\n",
    "            upper+=1\n",
    "        else:\n",
    "            lower+=1\n",
    "    print('upper case in string are ',upper)\n",
    "    print('lower case in string are ',lower)\n",
    "\n",
    "CountLowerUpper(str)"
   ]
  },
  {
   "cell_type": "code",
   "execution_count": 6,
   "metadata": {},
   "outputs": [
    {
     "name": "stdout",
     "output_type": "stream",
     "text": [
      "Even Number in list  [1, 5, 6, 7, 22, 4, 5, 10]  are\n",
      "6\n",
      "22\n",
      "4\n",
      "10\n"
     ]
    }
   ],
   "source": [
    "#Q3\n",
    "arr = [1,5,6,7,22,4,5,10]\n",
    "def isEven(arr):\n",
    "    print('Even Number in list ',arr, ' are')\n",
    "    for a in arr:\n",
    "        if a%2==0:\n",
    "            print(a)\n",
    "isEven(arr)        "
   ]
  },
  {
   "cell_type": "code",
   "execution_count": 10,
   "metadata": {},
   "outputs": [
    {
     "name": "stdout",
     "output_type": "stream",
     "text": [
      "string is palindrome\n"
     ]
    }
   ],
   "source": [
    "#Q4\n",
    "str = 'bakab'\n",
    "def isPalindrome(string):\n",
    "    rev = string[::-1]\n",
    "    if (string==rev):\n",
    "        print('string is palindrome')\n",
    "    else:\n",
    "        print('string is not palindrome')\n",
    "isPalindrome(str)"
   ]
  },
  {
   "cell_type": "code",
   "execution_count": 5,
   "metadata": {},
   "outputs": [
    {
     "name": "stdout",
     "output_type": "stream",
     "text": [
      "7  is prime number\n"
     ]
    }
   ],
   "source": [
    "#Q5\n",
    "num = 7\n",
    "def isPrime(num):\n",
    "    if num>1:\n",
    "        for i in range (2,num):\n",
    "            if(num%i) == 0:\n",
    "                print(num, 'is not a prime number')\n",
    "                break\n",
    "        else:\n",
    "            print(num,\" is prime number\")\n",
    "    else:\n",
    "        print(num,'is not a prime number')\n",
    "isPrime(num)"
   ]
  },
  {
   "cell_type": "code",
   "execution_count": 22,
   "metadata": {},
   "outputs": [
    {
     "name": "stdout",
     "output_type": "stream",
     "text": [
      "milk\n",
      "bread\n",
      "Apple\n",
      "egg\n"
     ]
    }
   ],
   "source": [
    "items=['milk','bread','egg']\n",
    "def printShoppingList(item1 = 'cake',item2 = 'pasta',item3 = 'maggi',item4 = 'egg'):\n",
    "        print(item1)\n",
    "        print(item2)\n",
    "        print(item3)\n",
    "        print(item4)\n",
    "        \n",
    "printShoppingList(items[0],items[1],'Apple')"
   ]
  },
  {
   "cell_type": "code",
   "execution_count": null,
   "metadata": {},
   "outputs": [],
   "source": []
  }
 ],
 "metadata": {
  "kernelspec": {
   "display_name": "Python 3",
   "language": "python",
   "name": "python3"
  },
  "language_info": {
   "codemirror_mode": {
    "name": "ipython",
    "version": 3
   },
   "file_extension": ".py",
   "mimetype": "text/x-python",
   "name": "python",
   "nbconvert_exporter": "python",
   "pygments_lexer": "ipython3",
   "version": "3.7.1"
  }
 },
 "nbformat": 4,
 "nbformat_minor": 2
}
