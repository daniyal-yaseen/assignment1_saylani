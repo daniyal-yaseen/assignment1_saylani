{
 "cells": [
  {
   "cell_type": "code",
   "execution_count": 3,
   "metadata": {},
   "outputs": [
    {
     "name": "stdout",
     "output_type": "stream",
     "text": [
      "Enter Number 1 :2\n",
      "Enter Number 2 :3\n",
      " Enter 1 for Addition. \n",
      " Enter 2 for Subtraction. \n",
      " Enter 3 for Multiplication. \n",
      " Enter 4 for Division. \n",
      " Enter 5 for Power.\n",
      "5\n",
      "Answer of Power is  8\n"
     ]
    }
   ],
   "source": [
    "# Q1\n",
    "n1 = int(input(\"Enter Number 1 :\"))\n",
    "n2 = int(input(\"Enter Number 2 :\"))\n",
    "op = int(input(\" Enter 1 for Addition. \\n Enter 2 for Subtraction. \\n Enter 3 for Multiplication. \\n Enter 4 for Division. \\n Enter 5 for Power.\\n\"))\n",
    "if op == 1:\n",
    "    print(\"Answer of Addition is \", n1+n2)\n",
    "elif op == 2:\n",
    "    print(\"Answer of Subtraction is \", n1-n2)\n",
    "elif op == 3:\n",
    "    print(\"Answer of Multiplication is \", n1*n2)\n",
    "elif op == 4:\n",
    "    print(\"Answer of Division is \", n1/n2)\n",
    "elif op == 5:\n",
    "    print(\"Answer of Power is \", n1**n2)\n",
    "else:\n",
    "    print(\"Inappropriate Input.\")"
   ]
  },
  {
   "cell_type": "code",
   "execution_count": 7,
   "metadata": {},
   "outputs": [
    {
     "name": "stdout",
     "output_type": "stream",
     "text": [
      "Numeric Values : 67\n",
      "Numeric Values : 2\n"
     ]
    }
   ],
   "source": [
    "# Q2\n",
    "list = [\"a\", 67, \"abc\", 2, \"d\"]\n",
    "for n in list:\n",
    "    if type(n) == int:\n",
    "        print(\"Numeric Values :\", n)"
   ]
  },
  {
   "cell_type": "code",
   "execution_count": 8,
   "metadata": {},
   "outputs": [
    {
     "name": "stdout",
     "output_type": "stream",
     "text": [
      "{'fname': 'Muhammad', 'mname': 'Shaban', 'lname': 'Malik', 'age': 23}\n"
     ]
    }
   ],
   "source": [
    "# Q3\n",
    "dict = {\n",
    "    \"fname\": \"Muhammad\",\n",
    "    \"mname\": \"Shaban\",\n",
    "    \"lname\": \"Malik\"\n",
    "}\n",
    "\n",
    "dict[\"age\"] = 23\n",
    "print(dict)"
   ]
  },
  {
   "cell_type": "code",
   "execution_count": 10,
   "metadata": {},
   "outputs": [
    {
     "name": "stdout",
     "output_type": "stream",
     "text": [
      "15\n"
     ]
    }
   ],
   "source": [
    "# Q4\n",
    "dict = {\n",
    "    \"n1\": 1,\n",
    "    \"n2\": 2,\n",
    "    \"n3\": 3,\n",
    "    \"n4\": 4,\n",
    "    \"n5\": 5,\n",
    "}\n",
    "\n",
    "sum = 0\n",
    "for n in dict:\n",
    "    sum = sum + dict[n]\n",
    "print(sum)"
   ]
  },
  {
   "cell_type": "code",
   "execution_count": 13,
   "metadata": {},
   "outputs": [
    {
     "name": "stdout",
     "output_type": "stream",
     "text": [
      "[7, 3]\n"
     ]
    }
   ],
   "source": [
    "# Q5\n",
    "list = [1,2,7,3,4,7,3]\n",
    "dup = []\n",
    "uniq = {}\n",
    "for n in list:\n",
    "   if n not in uniq:\n",
    "      uniq[n] = 1\n",
    "   else:\n",
    "      if uniq[n] == 1:\n",
    "         dup.append(n)\n",
    "      uniqItems[n] += 1\n",
    "print(dup)"
   ]
  },
  {
   "cell_type": "code",
   "execution_count": 15,
   "metadata": {},
   "outputs": [
    {
     "name": "stdout",
     "output_type": "stream",
     "text": [
      "Enter Key :a\n",
      "Key does not exists.\n"
     ]
    }
   ],
   "source": [
    "# Q6\n",
    "dict = {\n",
    "    \"fname\": \"Muhammad\",\n",
    "    \"mname\": \"Shaban\",\n",
    "    \"lname\": \"Malik\"\n",
    "}\n",
    "key = input(\"Enter Key :\")\n",
    "\n",
    "if key in dict.keys():\n",
    "    print(\"Key already Exists.\")\n",
    "else:\n",
    "    print(\"Key does not exists.\")"
   ]
  },
  {
   "cell_type": "code",
   "execution_count": null,
   "metadata": {},
   "outputs": [],
   "source": []
  }
 ],
 "metadata": {
  "kernelspec": {
   "display_name": "Python 3",
   "language": "python",
   "name": "python3"
  },
  "language_info": {
   "codemirror_mode": {
    "name": "ipython",
    "version": 3
   },
   "file_extension": ".py",
   "mimetype": "text/x-python",
   "name": "python",
   "nbconvert_exporter": "python",
   "pygments_lexer": "ipython3",
   "version": "3.7.4"
  }
 },
 "nbformat": 4,
 "nbformat_minor": 2
}
