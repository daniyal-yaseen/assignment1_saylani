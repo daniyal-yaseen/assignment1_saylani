{
 "cells": [
  {
   "cell_type": "markdown",
   "metadata": {},
   "source": [
    "<h2>Answer 1</h2>\n",
    "\n",
    "Object-oriented programming – As the name suggests uses objects in programming. Object-oriented programming aims to implement real-world entities like inheritance, hiding, polymorphism, etc in programming. The main aim of OOP is to bind together the data and the functions that operate on them so that no other part of the code can access this data except that function."
   ]
  },
  {
   "cell_type": "markdown",
   "metadata": {},
   "source": [
    "<h2>Answer 2</h2>\n",
    "<br>1) It provides a clear modular structure for programs which makes it good for defining abstract datatypes in which implementation details are hidden.\n",
    "<br>2) Objects can also be reused within an across applications. The reuse of software also lowers the cost of development. More effort is put into the object-oriented analysis and design, which lowers the overall cost of development.\n",
    "<br>3)It makes software easier to maintain. Since the design is modular, part of the system can be updated in case of issues without a need to make large-scale changes\n",
    "<br>4)Reuse also enables faster development. Object-oriented programming languages come with rich libraries of objects, and code developed during projects is also reusable in future projects.\n",
    "<br>5)It provides a good framework for code libraries where the supplied software components can be easily adapted and modified by the programmer. This is particularly useful for developing graphical user interfaces.\n"
   ]
  },
  {
   "cell_type": "markdown",
   "metadata": {},
   "source": [
    "<h2>Answer 3</h2>\n",
    "A function is a piece of code that is called by name. It can be passed data to operate on (i.e. the parameters) and can optionally return data (the return value). All data that is passed to a function is explicitly passed.\n",
    "\n",
    "A method is a piece of code that is called by a name that is associated with an object. In most respects it is identical to a function except for two key differences:\n",
    "\n",
    "A method is implicitly passed the object on which it was called.\n",
    "A method is able to operate on data that is contained within the class (remembering that an object is an instance of a class - the class is the definition, the object is an instance of that data)."
   ]
  },
  {
   "cell_type": "markdown",
   "metadata": {},
   "source": [
    "<h2>Answer 4</h2>\n",
    "<h3>Class</h3>\n",
    "Classes (OOP) In object-oriented programming, a class is a blueprint for creating objects (a particular data structure), providing initial values for state (member variables or attributes), and implementations of behavior (member functions or methods). The user-defined objects are created using the class keyword.\n",
    "<h3>Object</h3>\n",
    "Object is an instance of a particular class or subclass with the class's own methods or procedures and data variables.\n",
    "<h3>Attribute</h3>\n",
    "In Object-oriented programming(OOP), classes and objects have attributes. Attributes are data stored inside a class or instance and represent the state or quality of the class or instance. In short, attributes store information about the instance. Also, attributes should not be confused with class functions also known as methods. One can think of attributes as noun or adjective, while methods are the verb of the class.\n",
    "<h3>Behaviour</h3>\n",
    "The term \"behavior\" refers to how objects interact with each other , and it is defined by the operations an object can perform."
   ]
  },
  {
   "cell_type": "code",
   "execution_count": 14,
   "metadata": {},
   "outputs": [
    {
     "name": "stdout",
     "output_type": "stream",
     "text": [
      "BRV\n",
      "Fit\n",
      "Car Name is Sportage\n",
      "Car Type is SUV\n",
      "Car Brand is Kia\n",
      "Car Color is Red\n",
      "Car Model is 2019\n"
     ]
    }
   ],
   "source": [
    "class Car:\n",
    "    def __init__(self, brand, type, name, color, model):\n",
    "        self.brand = brand\n",
    "        self.type = type\n",
    "        self.name = name\n",
    "        self.color = color\n",
    "        self.model = model\n",
    "\n",
    "    def all_details(self):\n",
    "        print(\"Car Name is \" + self.name)\n",
    "        print(\"Car Type is \" + self.type)\n",
    "        print(\"Car Brand is \" + self.brand)\n",
    "        print(\"Car Color is \" + self.color)\n",
    "        print(\"Car Model is \" + self.model)\n",
    "    \n",
    "    def show_name(self):\n",
    "        print(self.name)\n",
    "    \n",
    "    def show_model(self):\n",
    "        print(self.name)\n",
    "    \n",
    "p1 = Car(\"Honda\", 'SUV', 'BRV', 'Black', '2019')\n",
    "p2 = Car(\"Honda\", 'SUV', 'Fit', 'White', '2019')\n",
    "p3 = Car(\"Kia\", 'SUV', 'Sportage', 'Red', '2019')\n",
    "p4 = Car(\"Toyota\", 'Sedan', 'Corolla', 'White', '2019')\n",
    "p5 = Car(\"Suzuki\", 'Hatchback', 'Swift', 'Grey', '2016')\n",
    "\n",
    "p1.show_name()\n",
    "p2.show_model()\n",
    "p3.all_details()\n",
    "    \n"
   ]
  },
  {
   "cell_type": "code",
   "execution_count": null,
   "metadata": {},
   "outputs": [],
   "source": []
  },
  {
   "cell_type": "code",
   "execution_count": null,
   "metadata": {},
   "outputs": [],
   "source": []
  }
 ],
 "metadata": {
  "kernelspec": {
   "display_name": "Python 3",
   "language": "python",
   "name": "python3"
  },
  "language_info": {
   "codemirror_mode": {
    "name": "ipython",
    "version": 3
   },
   "file_extension": ".py",
   "mimetype": "text/x-python",
   "name": "python",
   "nbconvert_exporter": "python",
   "pygments_lexer": "ipython3",
   "version": "3.7.1"
  }
 },
 "nbformat": 4,
 "nbformat_minor": 2
}
